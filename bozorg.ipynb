{
 "cells": [
  {
   "cell_type": "code",
   "execution_count": 15,
   "metadata": {},
   "outputs": [
    {
     "name": "stdout",
     "output_type": "stream",
     "text": [
      "Enter a number:8547\n"
     ]
    }
   ],
   "source": [
    "a=int(input(\"Enter a number:\"))"
   ]
  },
  {
   "cell_type": "code",
   "execution_count": 6,
   "metadata": {},
   "outputs": [
    {
     "name": "stdout",
     "output_type": "stream",
     "text": [
      "Number \t digit\n",
      "======   =====\n"
     ]
    }
   ],
   "source": [
    "print(\"Number\",'\\t',\"digit\")\n",
    "print(\"======   =====\")"
   ]
  },
  {
   "cell_type": "code",
   "execution_count": 16,
   "metadata": {},
   "outputs": [
    {
     "name": "stdout",
     "output_type": "stream",
     "text": [
      "854 \t 7\n",
      "85 \t 4\n",
      "8 \t 5\n",
      "0 \t 8\n",
      "averange1 is  \t 6.666666666666667\n",
      "Averange2 is  \t 4.0\n"
     ]
    }
   ],
   "source": [
    "count1=0\n",
    "count2=0\n",
    "digit=0\n",
    "sum1=0\n",
    "sum2=0\n",
    "while a>0:\n",
    "    digit=a%10\n",
    "    a//=10\n",
    "    print(a,'\\t',digit)\n",
    "    if a%2==0:\n",
    "        count1+=1\n",
    "        sum1+=digit\n",
    "    else:\n",
    "        count2+=1\n",
    "        sum2+=digit\n",
    "if count1>0:    \n",
    "     print(\"averange1 is \",'\\t',sum1/count1)\n",
    "if count2>0:\n",
    "     print(\"Averange2 is \",'\\t',sum2/count2)"
   ]
  },
  {
   "cell_type": "code",
   "execution_count": null,
   "metadata": {},
   "outputs": [],
   "source": []
  }
 ],
 "metadata": {
  "kernelspec": {
   "display_name": "Python 3",
   "language": "python",
   "name": "python3"
  },
  "language_info": {
   "codemirror_mode": {
    "name": "ipython",
    "version": 3
   },
   "file_extension": ".py",
   "mimetype": "text/x-python",
   "name": "python",
   "nbconvert_exporter": "python",
   "pygments_lexer": "ipython3",
   "version": "3.6.13"
  }
 },
 "nbformat": 4,
 "nbformat_minor": 2
}
